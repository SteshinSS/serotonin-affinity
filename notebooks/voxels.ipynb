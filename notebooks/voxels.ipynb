{
 "cells": [
  {
   "cell_type": "code",
   "execution_count": 1,
   "metadata": {},
   "outputs": [
    {
     "name": "stderr",
     "output_type": "stream",
     "text": [
      "2021-12-10 15:37:57,156 - rdkit - INFO - Enabling RDKit 2021.09.2 jupyter extensions\n"
     ]
    }
   ],
   "source": [
    "import pandas as pd\n",
    "import numpy as np\n",
    "import matplotlib.pyplot as plt\n",
    "from moleculekit.molecule import Molecule\n",
    "from moleculekit.tools.voxeldescriptors import getVoxelDescriptors, viewVoxelFeatures\n",
    "from moleculekit.tools.atomtyper import prepareProteinForAtomtyping\n",
    "from moleculekit.smallmol.smallmol import SmallMol\n",
    "from moleculekit.home import home"
   ]
  },
  {
   "cell_type": "code",
   "execution_count": 2,
   "metadata": {},
   "outputs": [],
   "source": [
    "import os\n",
    "from pathlib import Path\n",
    "\n",
    "def change_directory_to_repo():\n",
    "    \"\"\"Changes working directory to the repository root folder.\"\"\"\n",
    "    current_dir = Path.cwd()\n",
    "    for parent in current_dir.parents:\n",
    "        # Repository is the first folder with the .git folder\n",
    "        files = list(parent.glob(\".git\"))\n",
    "        if files:\n",
    "            os.chdir(str(parent))\n",
    "change_directory_to_repo()"
   ]
  },
  {
   "cell_type": "code",
   "execution_count": 3,
   "metadata": {},
   "outputs": [
    {
     "data": {
      "text/html": [
       "<div>\n",
       "<style scoped>\n",
       "    .dataframe tbody tr th:only-of-type {\n",
       "        vertical-align: middle;\n",
       "    }\n",
       "\n",
       "    .dataframe tbody tr th {\n",
       "        vertical-align: top;\n",
       "    }\n",
       "\n",
       "    .dataframe thead th {\n",
       "        text-align: right;\n",
       "    }\n",
       "</style>\n",
       "<table border=\"1\" class=\"dataframe\">\n",
       "  <thead>\n",
       "    <tr style=\"text-align: right;\">\n",
       "      <th></th>\n",
       "      <th>smiles</th>\n",
       "      <th>filtered_affinity</th>\n",
       "    </tr>\n",
       "  </thead>\n",
       "  <tbody>\n",
       "    <tr>\n",
       "      <th>1976</th>\n",
       "      <td>COc1cc(OC)c2c(c1CO)C[C@H]1c3c(cc(OC)c(OC)c3OC)...</td>\n",
       "      <td>0</td>\n",
       "    </tr>\n",
       "    <tr>\n",
       "      <th>1034</th>\n",
       "      <td>CN(C)CCSC(C)(C)C</td>\n",
       "      <td>0</td>\n",
       "    </tr>\n",
       "    <tr>\n",
       "      <th>6303</th>\n",
       "      <td>COc1cccc(NC(=O)NCCCN2CCC(Cc3ccccc3)CC2)c1</td>\n",
       "      <td>0</td>\n",
       "    </tr>\n",
       "    <tr>\n",
       "      <th>1932</th>\n",
       "      <td>CC(C)(O)C(=O)N[C@H]1CC[C@H](CCN2CCN(c3nccc4c3C...</td>\n",
       "      <td>1</td>\n",
       "    </tr>\n",
       "    <tr>\n",
       "      <th>3707</th>\n",
       "      <td>Cc1cccc(N2CCN(CCCCNC(=O)c3cc4ccccc4o3)CC2)n1</td>\n",
       "      <td>0</td>\n",
       "    </tr>\n",
       "    <tr>\n",
       "      <th>...</th>\n",
       "      <td>...</td>\n",
       "      <td>...</td>\n",
       "    </tr>\n",
       "    <tr>\n",
       "      <th>3234</th>\n",
       "      <td>CCCc1nn(C)c2c(=O)[nH]c(-c3cc(S(=O)(=O)N4CCN(C)...</td>\n",
       "      <td>0</td>\n",
       "    </tr>\n",
       "    <tr>\n",
       "      <th>4910</th>\n",
       "      <td>Cc1ccc(Sc2ccccc2N2CCN(CCc3c(C)nc4n(c3=O)CCCC4O...</td>\n",
       "      <td>0</td>\n",
       "    </tr>\n",
       "    <tr>\n",
       "      <th>6099</th>\n",
       "      <td>COc1cccc(NC(=O)NCCCN2CCC(Cc3ccc(F)cc3)CC2)c1</td>\n",
       "      <td>0</td>\n",
       "    </tr>\n",
       "    <tr>\n",
       "      <th>1403</th>\n",
       "      <td>CCNC(=O)Nc1cccc(CCN2CCN(c3cccc4nc(C)ccc34)CC2)c1</td>\n",
       "      <td>0</td>\n",
       "    </tr>\n",
       "    <tr>\n",
       "      <th>2440</th>\n",
       "      <td>O=S(=O)(c1cccc2ncccc12)N1CCCCC[C@H]1CCN1CCN(c2...</td>\n",
       "      <td>0</td>\n",
       "    </tr>\n",
       "  </tbody>\n",
       "</table>\n",
       "<p>4673 rows × 2 columns</p>\n",
       "</div>"
      ],
      "text/plain": [
       "                                                 smiles  filtered_affinity\n",
       "1976  COc1cc(OC)c2c(c1CO)C[C@H]1c3c(cc(OC)c(OC)c3OC)...                  0\n",
       "1034                                   CN(C)CCSC(C)(C)C                  0\n",
       "6303          COc1cccc(NC(=O)NCCCN2CCC(Cc3ccccc3)CC2)c1                  0\n",
       "1932  CC(C)(O)C(=O)N[C@H]1CC[C@H](CCN2CCN(c3nccc4c3C...                  1\n",
       "3707       Cc1cccc(N2CCN(CCCCNC(=O)c3cc4ccccc4o3)CC2)n1                  0\n",
       "...                                                 ...                ...\n",
       "3234  CCCc1nn(C)c2c(=O)[nH]c(-c3cc(S(=O)(=O)N4CCN(C)...                  0\n",
       "4910  Cc1ccc(Sc2ccccc2N2CCN(CCc3c(C)nc4n(c3=O)CCCC4O...                  0\n",
       "6099       COc1cccc(NC(=O)NCCCN2CCC(Cc3ccc(F)cc3)CC2)c1                  0\n",
       "1403   CCNC(=O)Nc1cccc(CCN2CCN(c3cccc4nc(C)ccc34)CC2)c1                  0\n",
       "2440  O=S(=O)(c1cccc2ncccc12)N1CCCCC[C@H]1CCN1CCN(c2...                  0\n",
       "\n",
       "[4673 rows x 2 columns]"
      ]
     },
     "execution_count": 3,
     "metadata": {},
     "output_type": "execute_result"
    }
   ],
   "source": [
    "data = pd.read_csv('data/splitted/train.csv', index_col=0)\n",
    "data"
   ]
  },
  {
   "cell_type": "code",
   "execution_count": 9,
   "metadata": {},
   "outputs": [
    {
     "name": "stdout",
     "output_type": "stream",
     "text": [
      "0\n",
      "50\n",
      "100\n",
      "150\n"
     ]
    },
    {
     "ename": "KeyboardInterrupt",
     "evalue": "",
     "output_type": "error",
     "traceback": [
      "\u001b[0;31m---------------------------------------------------------------------------\u001b[0m",
      "\u001b[0;31mKeyboardInterrupt\u001b[0m                         Traceback (most recent call last)",
      "\u001b[0;32m/tmp/ipykernel_77887/2714142225.py\u001b[0m in \u001b[0;36m<module>\u001b[0;34m\u001b[0m\n\u001b[1;32m     10\u001b[0m     \u001b[0mmolecule\u001b[0m \u001b[0;34m=\u001b[0m \u001b[0mChem\u001b[0m\u001b[0;34m.\u001b[0m\u001b[0mAddHs\u001b[0m\u001b[0;34m(\u001b[0m\u001b[0mmolecule\u001b[0m\u001b[0;34m)\u001b[0m\u001b[0;34m\u001b[0m\u001b[0;34m\u001b[0m\u001b[0m\n\u001b[1;32m     11\u001b[0m     \u001b[0mAllChem\u001b[0m\u001b[0;34m.\u001b[0m\u001b[0mEmbedMolecule\u001b[0m\u001b[0;34m(\u001b[0m\u001b[0mmolecule\u001b[0m\u001b[0;34m)\u001b[0m\u001b[0;34m\u001b[0m\u001b[0;34m\u001b[0m\u001b[0m\n\u001b[0;32m---> 12\u001b[0;31m     \u001b[0mAllChem\u001b[0m\u001b[0;34m.\u001b[0m\u001b[0mMMFFOptimizeMolecule\u001b[0m\u001b[0;34m(\u001b[0m\u001b[0mmolecule\u001b[0m\u001b[0;34m)\u001b[0m\u001b[0;34m\u001b[0m\u001b[0;34m\u001b[0m\u001b[0m\n\u001b[0m\u001b[1;32m     13\u001b[0m     \u001b[0mmolecules\u001b[0m\u001b[0;34m.\u001b[0m\u001b[0mappend\u001b[0m\u001b[0;34m(\u001b[0m\u001b[0mSmallMol\u001b[0m\u001b[0;34m(\u001b[0m\u001b[0mmolecule\u001b[0m\u001b[0;34m)\u001b[0m\u001b[0;34m)\u001b[0m\u001b[0;34m\u001b[0m\u001b[0;34m\u001b[0m\u001b[0m\n",
      "\u001b[0;31mKeyboardInterrupt\u001b[0m: "
     ]
    }
   ],
   "source": [
    "from rdkit import Chem\n",
    "from rdkit.Chem import AllChem\n",
    "\n",
    "molecules = []\n",
    "for i, row in enumerate(data.itertuples()):\n",
    "    if i % 50 == 0:\n",
    "        print(i)\n",
    "    smiles = row[1]\n",
    "    molecule = Chem.MolFromSmiles(smiles)\n",
    "    molecule = Chem.AddHs(molecule)\n",
    "    AllChem.EmbedMolecule(molecule)\n",
    "    AllChem.MMFFOptimizeMolecule(molecule)\n",
    "    molecules.append(SmallMol(molecule))"
   ]
  },
  {
   "cell_type": "code",
   "execution_count": 10,
   "metadata": {},
   "outputs": [
    {
     "data": {
      "text/plain": [
       "<moleculekit.smallmol.smallmol.SmallMol object at 0x7f8b0c498070>\n",
       "SmallMol with 59 atoms and 1 conformers\n",
       "Atom field - bondtype\n",
       "Atom field - charge\n",
       "Atom field - chiral\n",
       "Atom field - chiraltags\n",
       "Atom field - coords\n",
       "Atom field - element\n",
       "Atom field - formalcharge\n",
       "Atom field - hybridization\n",
       "Atom field - idx\n",
       "Atom field - name\n",
       "Atom field - neighbors"
      ]
     },
     "execution_count": 10,
     "metadata": {},
     "output_type": "execute_result"
    }
   ],
   "source": [
    "molecules[0]"
   ]
  },
  {
   "cell_type": "code",
   "execution_count": null,
   "metadata": {},
   "outputs": [],
   "source": []
  },
  {
   "cell_type": "code",
   "execution_count": 11,
   "metadata": {},
   "outputs": [],
   "source": [
    "prot_vox, prot_centers, prot_N = getVoxelDescriptors(molecules[0])"
   ]
  },
  {
   "cell_type": "code",
   "execution_count": 14,
   "metadata": {},
   "outputs": [
    {
     "data": {
      "text/plain": [
       "1.0"
      ]
     },
     "execution_count": 14,
     "metadata": {},
     "output_type": "execute_result"
    }
   ],
   "source": []
  },
  {
   "cell_type": "code",
   "execution_count": null,
   "metadata": {},
   "outputs": [],
   "source": []
  }
 ],
 "metadata": {
  "interpreter": {
   "hash": "75eb2e0569a4af04b1207f03ea0046dd570fd06dc11dd211da40f0f826adc5b9"
  },
  "kernelspec": {
   "display_name": "Python 3.9.7 64-bit ('gero': conda)",
   "language": "python",
   "name": "python3"
  },
  "language_info": {
   "codemirror_mode": {
    "name": "ipython",
    "version": 3
   },
   "file_extension": ".py",
   "mimetype": "text/x-python",
   "name": "python",
   "nbconvert_exporter": "python",
   "pygments_lexer": "ipython3",
   "version": "3.9.7"
  },
  "orig_nbformat": 4
 },
 "nbformat": 4,
 "nbformat_minor": 2
}
