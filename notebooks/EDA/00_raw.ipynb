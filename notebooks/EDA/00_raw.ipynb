{
 "cells": [
  {
   "cell_type": "markdown",
   "metadata": {},
   "source": [
    "# EDA of raw data\n",
    "Notebook for exploring and highlightning"
   ]
  },
  {
   "cell_type": "code",
   "execution_count": 3,
   "metadata": {},
   "outputs": [],
   "source": [
    "import pandas as pd\n",
    "import numpy as np\n",
    "import matplotlib.pyplot as plt\n",
    "import seaborn as sns\n",
    "from pathlib import Path\n",
    "import os\n",
    "\n",
    "def change_directory_to_repo():\n",
    "    \"\"\"Changes working directory to the repository root folder.\"\"\"\n",
    "    current_dir = Path.cwd()\n",
    "    for parent in current_dir.parents:\n",
    "        # Repository is the first folder with the .git folder\n",
    "        files = list(parent.glob(\".git\"))\n",
    "        if files:\n",
    "            os.chdir(str(parent))\n",
    "\n",
    "change_directory_to_repo()"
   ]
  },
  {
   "cell_type": "code",
   "execution_count": 21,
   "metadata": {},
   "outputs": [],
   "source": [
    "smiles = pd.read_csv('data/raw/smiles.tsv.gz', compression='gzip', sep='\\t')\n",
    "activities = pd.read_csv('data/raw/activities.tsv.gz', compression='gzip', sep='\\t')"
   ]
  },
  {
   "cell_type": "markdown",
   "metadata": {},
   "source": [
    "There are molecules with several affinity values. Probably these are different experiments. Since we have no prior, we will use mean affinity value."
   ]
  },
  {
   "cell_type": "code",
   "execution_count": 22,
   "metadata": {},
   "outputs": [
    {
     "data": {
      "text/plain": [
       "2214      46\n",
       "2261      37\n",
       "3683      34\n",
       "7714      21\n",
       "34197     20\n",
       "          ..\n",
       "296630     1\n",
       "296837     1\n",
       "296817     1\n",
       "296660     1\n",
       "9988       1\n",
       "Name: molregno, Length: 6524, dtype: int64"
      ]
     },
     "execution_count": 22,
     "metadata": {},
     "output_type": "execute_result"
    }
   ],
   "source": [
    "activities['molregno'].value_counts()"
   ]
  },
  {
   "cell_type": "markdown",
   "metadata": {},
   "source": [
    "Let's see how big our dataset is."
   ]
  },
  {
   "cell_type": "code",
   "execution_count": 23,
   "metadata": {},
   "outputs": [
    {
     "data": {
      "text/plain": [
       "6492"
      ]
     },
     "execution_count": 23,
     "metadata": {},
     "output_type": "execute_result"
    }
   ],
   "source": [
    "id_with_affinity = set(activities[\"molregno\"].to_list())\n",
    "all_id = set(smiles[\"molregno\"].to_list())\n",
    "smiles_with_affinity = all_id.intersection(id_with_affinity)\n",
    "len(smiles_with_affinity)"
   ]
  },
  {
   "cell_type": "markdown",
   "metadata": {},
   "source": [
    "Let's do first pipeline step: filter values and binarize affinity into 1 and 0 -- active and non-active molecules."
   ]
  },
  {
   "cell_type": "code",
   "execution_count": 25,
   "metadata": {},
   "outputs": [],
   "source": [
    "from scripts.preprocessing import filter\n",
    "\n",
    "# Minimal value to consider a ligand to be active\n",
    "threshold = 8.0  \n",
    "\n",
    "# Keep molecules with null affinity value. Consider null molecules as not active, if true.\n",
    "keep_null = True\n",
    "filtered = filter.filter_dataset(smiles, activities, smiles_with_affinity, threshold, keep_null)"
   ]
  }
 ],
 "metadata": {
  "interpreter": {
   "hash": "75eb2e0569a4af04b1207f03ea0046dd570fd06dc11dd211da40f0f826adc5b9"
  },
  "kernelspec": {
   "display_name": "Python 3.9.7 64-bit ('gero': conda)",
   "language": "python",
   "name": "python3"
  },
  "language_info": {
   "codemirror_mode": {
    "name": "ipython",
    "version": 3
   },
   "file_extension": ".py",
   "mimetype": "text/x-python",
   "name": "python",
   "nbconvert_exporter": "python",
   "pygments_lexer": "ipython3",
   "version": "3.9.7"
  },
  "orig_nbformat": 4
 },
 "nbformat": 4,
 "nbformat_minor": 2
}
