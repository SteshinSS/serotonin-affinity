{
 "cells": [
  {
   "cell_type": "markdown",
   "metadata": {},
   "source": [
    "# EDA of filtered data\n",
    "Notebook for exploring and highlightning"
   ]
  },
  {
   "cell_type": "code",
   "execution_count": 1,
   "metadata": {},
   "outputs": [],
   "source": [
    "import pandas as pd\n",
    "import numpy as np\n",
    "import matplotlib.pyplot as plt\n",
    "import seaborn as sns\n",
    "from pathlib import Path\n",
    "import os\n",
    "\n",
    "def change_directory_to_repo():\n",
    "    \"\"\"Changes working directory to the repository root folder.\"\"\"\n",
    "    current_dir = Path.cwd()\n",
    "    for parent in current_dir.parents:\n",
    "        # Repository is the first folder with the .git folder\n",
    "        files = list(parent.glob(\".git\"))\n",
    "        if files:\n",
    "            os.chdir(str(parent))\n",
    "\n",
    "change_directory_to_repo()"
   ]
  },
  {
   "cell_type": "code",
   "execution_count": 5,
   "metadata": {},
   "outputs": [],
   "source": [
    "filtered = pd.read_csv('data/filtered/filtered.csv', index_col=0)"
   ]
  },
  {
   "cell_type": "markdown",
   "metadata": {},
   "source": [
    "We have inbalanced dataset:"
   ]
  },
  {
   "cell_type": "code",
   "execution_count": 6,
   "metadata": {},
   "outputs": [
    {
     "data": {
      "text/plain": [
       "0    5526\n",
       "1     966\n",
       "Name: filtered_affinity, dtype: int64"
      ]
     },
     "execution_count": 6,
     "metadata": {},
     "output_type": "execute_result"
    }
   ],
   "source": [
    "filtered['filtered_affinity'].value_counts()"
   ]
  },
  {
   "cell_type": "markdown",
   "metadata": {},
   "source": [
    "## Splitting\n",
    "\n",
    "There are many ways of splitting our data. A simple way is a random split. The problem is that we can have very similar molecules in both train and test datasets. That will affect our decision in a way that our model became overfitted to the current dataset. That is why we prefer a homology-based split generally. We will cluster similar molecules and select whole clusters for different splits. "
   ]
  },
  {
   "cell_type": "code",
   "execution_count": 35,
   "metadata": {},
   "outputs": [],
   "source": [
    "from rdkit import Chem\n",
    "from rdkit.Chem import AllChem\n",
    "from rdkit import DataStructs\n",
    "from rdkit.ML.Cluster import Butina"
   ]
  },
  {
   "cell_type": "code",
   "execution_count": 36,
   "metadata": {},
   "outputs": [],
   "source": [
    "fingerprints = []\n",
    "for row in filtered.itertuples():\n",
    "    smiles = row[1]\n",
    "    molecule = Chem.MolFromSmiles(smiles)\n",
    "    fingerprint = AllChem.GetMorganFingerprintAsBitVect(molecule,2,1024)\n",
    "    fingerprints.append(fingerprint)"
   ]
  },
  {
   "cell_type": "code",
   "execution_count": 40,
   "metadata": {},
   "outputs": [
    {
     "data": {
      "text/plain": [
       "(6492, 1024)"
      ]
     },
     "execution_count": 40,
     "metadata": {},
     "output_type": "execute_result"
    }
   ],
   "source": [
    "list_fp = [fp.ToList() for fp in fingerprints]\n",
    "list_fp = np.stack(list_fp)\n",
    "list_fp.shape"
   ]
  },
  {
   "cell_type": "code",
   "execution_count": 46,
   "metadata": {},
   "outputs": [],
   "source": [
    "def clusterize_fingerprints(fps, cutoff=0.2):\n",
    "    # See https://rdkit.readthedocs.io/en/latest/Cookbook.html#clustering-molecules\n",
    "    dists = []\n",
    "    nfps = len(fps)\n",
    "    for i in range(1,nfps):\n",
    "        sims = DataStructs.BulkTanimotoSimilarity(fps[i],fps[:i])\n",
    "        dists.extend([1-x for x in sims])\n",
    "    cs = Butina.ClusterData(dists,nfps,cutoff,isDistData=True)\n",
    "    return cs\n"
   ]
  },
  {
   "cell_type": "code",
   "execution_count": 47,
   "metadata": {},
   "outputs": [],
   "source": [
    "cs = clusterize_fingerprints(fingerprints)"
   ]
  },
  {
   "cell_type": "markdown",
   "metadata": {},
   "source": [
    "Let's visualize the three biggest clusters"
   ]
  },
  {
   "cell_type": "code",
   "execution_count": 51,
   "metadata": {},
   "outputs": [],
   "source": [
    "id_to_take = []\n",
    "cluster_number = []\n",
    "for cluster_num, cluster in enumerate(cs[:3]):\n",
    "    for id in cluster:\n",
    "        id_to_take.append(id)\n",
    "        cluster_number.append(cluster_num)\n",
    "\n",
    "taken_fp = []\n",
    "for id in id_to_take:\n",
    "    taken_fp.append(list_fp[id])"
   ]
  },
  {
   "cell_type": "code",
   "execution_count": 54,
   "metadata": {},
   "outputs": [
    {
     "name": "stderr",
     "output_type": "stream",
     "text": [
      "/home/simon/miniconda3/envs/gero/lib/python3.9/site-packages/seaborn/_decorators.py:36: FutureWarning: Pass the following variables as keyword args: x, y. From version 0.12, the only valid positional argument will be `data`, and passing other arguments without an explicit keyword will result in an error or misinterpretation.\n",
      "  warnings.warn(\n"
     ]
    },
    {
     "data": {
      "text/plain": [
       "<AxesSubplot:>"
      ]
     },
     "execution_count": 54,
     "metadata": {},
     "output_type": "execute_result"
    },
    {
     "data": {
      "image/png": "[encoded data removed]",
      "text/plain": [
       "<Figure size 432x288 with 1 Axes>"
      ]
     },
     "metadata": {
      "needs_background": "light"
     },
     "output_type": "display_data"
    }
   ],
   "source": [
    "from sklearn.decomposition import PCA\n",
    "\n",
    "pca = PCA(n_components=2)\n",
    "embeddings = pca.fit_transform(taken_fp).transpose()\n",
    "sns.scatterplot(embeddings[0], embeddings[1], hue=cluster_number)"
   ]
  },
  {
   "cell_type": "markdown",
   "metadata": {},
   "source": [
    "Indeed, clustering works."
   ]
  },
  {
   "cell_type": "code",
   "execution_count": 63,
   "metadata": {},
   "outputs": [],
   "source": [
    "from sklearn.model_selection import train_test_split\n",
    "\n",
    "id_train_and_val, id_test = train_test_split(cs, test_size=0.2)\n",
    "id_train, id_val = train_test_split(id_train_and_val, test_size=0.1)"
   ]
  },
  {
   "cell_type": "code",
   "execution_count": 64,
   "metadata": {},
   "outputs": [],
   "source": [
    "def get_flattened_list(list_of_tuples):\n",
    "    result = []\n",
    "    for tuple in list_of_tuples:\n",
    "        result.extend(tuple)\n",
    "    return result\n",
    "\n",
    "id_train = get_flattened_list(id_train)\n",
    "id_val = get_flattened_list(id_val)\n",
    "id_test = get_flattened_list(id_test)"
   ]
  },
  {
   "cell_type": "code",
   "execution_count": 69,
   "metadata": {},
   "outputs": [
    {
     "data": {
      "text/html": [
       "<div>\n",
       "<style scoped>\n",
       "    .dataframe tbody tr th:only-of-type {\n",
       "        vertical-align: middle;\n",
       "    }\n",
       "\n",
       "    .dataframe tbody tr th {\n",
       "        vertical-align: top;\n",
       "    }\n",
       "\n",
       "    .dataframe thead th {\n",
       "        text-align: right;\n",
       "    }\n",
       "</style>\n",
       "<table border=\"1\" class=\"dataframe\">\n",
       "  <thead>\n",
       "    <tr style=\"text-align: right;\">\n",
       "      <th></th>\n",
       "      <th>smiles</th>\n",
       "      <th>filtered_affinity</th>\n",
       "    </tr>\n",
       "  </thead>\n",
       "  <tbody>\n",
       "    <tr>\n",
       "      <th>903</th>\n",
       "      <td>C[C@]12C(=O)OC(=O)[C@@]1(C)[C@@H]1CC[C@H]2O1</td>\n",
       "      <td>0</td>\n",
       "    </tr>\n",
       "    <tr>\n",
       "      <th>3492</th>\n",
       "      <td>Fc1ccc(Nc2nc(NCCN3CCOCC3)nc3[nH]ncc23)cc1</td>\n",
       "      <td>0</td>\n",
       "    </tr>\n",
       "    <tr>\n",
       "      <th>3945</th>\n",
       "      <td>CC(C)N(CCNC(=O)[C@H]1C[C@@H]1c1ccccc1)C(C)C</td>\n",
       "      <td>0</td>\n",
       "    </tr>\n",
       "    <tr>\n",
       "      <th>1095</th>\n",
       "      <td>CN1CCN(Cc2cccc3c2c(Cl)cn3S(=O)(=O)c2cccc(Cl)c2...</td>\n",
       "      <td>0</td>\n",
       "    </tr>\n",
       "    <tr>\n",
       "      <th>4302</th>\n",
       "      <td>CC(C)c1ccccc1OCCN1CCC(NS(=O)(=O)c2cccc(F)c2)CC1</td>\n",
       "      <td>0</td>\n",
       "    </tr>\n",
       "    <tr>\n",
       "      <th>...</th>\n",
       "      <td>...</td>\n",
       "      <td>...</td>\n",
       "    </tr>\n",
       "    <tr>\n",
       "      <th>2486</th>\n",
       "      <td>Nc1cc(F)ccc1C(=O)CCCN1CC[C@H]2[C@@H](C1)c1cccc...</td>\n",
       "      <td>1</td>\n",
       "    </tr>\n",
       "    <tr>\n",
       "      <th>2505</th>\n",
       "      <td>Nc1c(F)cccc1C(=O)CCCN1CC[C@H]2[C@@H](C1)c1cccc...</td>\n",
       "      <td>1</td>\n",
       "    </tr>\n",
       "    <tr>\n",
       "      <th>2506</th>\n",
       "      <td>Nc1ccc(F)cc1C(=O)CCCN1CC[C@H]2[C@@H](C1)c1cccc...</td>\n",
       "      <td>0</td>\n",
       "    </tr>\n",
       "    <tr>\n",
       "      <th>2511</th>\n",
       "      <td>Nc1cc(Br)ccc1C(=O)CCCN1CC[C@H]2[C@@H](C1)c1ccc...</td>\n",
       "      <td>0</td>\n",
       "    </tr>\n",
       "    <tr>\n",
       "      <th>2608</th>\n",
       "      <td>Nc1cc(F)ccc1C(=O)CCCN1CC[C@@H]2[C@H](C1)c1cccc...</td>\n",
       "      <td>1</td>\n",
       "    </tr>\n",
       "  </tbody>\n",
       "</table>\n",
       "<p>4649 rows × 2 columns</p>\n",
       "</div>"
      ],
      "text/plain": [
       "                                                 smiles  filtered_affinity\n",
       "903        C[C@]12C(=O)OC(=O)[C@@]1(C)[C@@H]1CC[C@H]2O1                  0\n",
       "3492          Fc1ccc(Nc2nc(NCCN3CCOCC3)nc3[nH]ncc23)cc1                  0\n",
       "3945        CC(C)N(CCNC(=O)[C@H]1C[C@@H]1c1ccccc1)C(C)C                  0\n",
       "1095  CN1CCN(Cc2cccc3c2c(Cl)cn3S(=O)(=O)c2cccc(Cl)c2...                  0\n",
       "4302    CC(C)c1ccccc1OCCN1CCC(NS(=O)(=O)c2cccc(F)c2)CC1                  0\n",
       "...                                                 ...                ...\n",
       "2486  Nc1cc(F)ccc1C(=O)CCCN1CC[C@H]2[C@@H](C1)c1cccc...                  1\n",
       "2505  Nc1c(F)cccc1C(=O)CCCN1CC[C@H]2[C@@H](C1)c1cccc...                  1\n",
       "2506  Nc1ccc(F)cc1C(=O)CCCN1CC[C@H]2[C@@H](C1)c1cccc...                  0\n",
       "2511  Nc1cc(Br)ccc1C(=O)CCCN1CC[C@H]2[C@@H](C1)c1ccc...                  0\n",
       "2608  Nc1cc(F)ccc1C(=O)CCCN1CC[C@@H]2[C@H](C1)c1cccc...                  1\n",
       "\n",
       "[4649 rows x 2 columns]"
      ]
     },
     "execution_count": 69,
     "metadata": {},
     "output_type": "execute_result"
    }
   ],
   "source": [
    "filtered.iloc[id_train]"
   ]
  },
  {
   "cell_type": "code",
   "execution_count": null,
   "metadata": {},
   "outputs": [],
   "source": []
  }
 ],
 "metadata": {
  "interpreter": {
   "hash": "75eb2e0569a4af04b1207f03ea0046dd570fd06dc11dd211da40f0f826adc5b9"
  },
  "kernelspec": {
   "display_name": "Python 3.9.7 64-bit ('gero': conda)",
   "language": "python",
   "name": "python3"
  },
  "language_info": {
   "codemirror_mode": {
    "name": "ipython",
    "version": 3
   },
   "file_extension": ".py",
   "mimetype": "text/x-python",
   "name": "python",
   "nbconvert_exporter": "python",
   "pygments_lexer": "ipython3",
   "version": "3.9.7"
  },
  "orig_nbformat": 4
 },
 "nbformat": 4,
 "nbformat_minor": 2
}
