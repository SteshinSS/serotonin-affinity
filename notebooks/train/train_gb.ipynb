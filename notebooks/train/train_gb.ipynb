{
 "cells": [
  {
   "cell_type": "markdown",
   "metadata": {},
   "source": [
    "# Training Gradient Boosting\n",
    "Use this notebook for quick experimenting"
   ]
  },
  {
   "cell_type": "code",
   "execution_count": 15,
   "metadata": {},
   "outputs": [],
   "source": [
    "import pandas as pd\n",
    "import numpy as np\n",
    "import matplotlib.pyplot as plt\n",
    "import seaborn as sns\n",
    "from sklearn.ensemble import GradientBoostingClassifier\n",
    "from sklearn.metrics import roc_auc_score\n",
    "from pathlib import Path\n",
    "import os\n",
    "\n",
    "def change_directory_to_repo():\n",
    "    \"\"\"Changes working directory to the repository root folder.\"\"\"\n",
    "    current_dir = Path.cwd()\n",
    "    for parent in current_dir.parents:\n",
    "        # Repository is the first folder with the .git folder\n",
    "        files = list(parent.glob(\".git\"))\n",
    "        if files:\n",
    "            os.chdir(str(parent))\n",
    "\n",
    "change_directory_to_repo()\n",
    "\n",
    "from scripts.training import train_gb"
   ]
  },
  {
   "cell_type": "code",
   "execution_count": 16,
   "metadata": {},
   "outputs": [],
   "source": [
    "def get_dataset(type: str, is_train=True):\n",
    "    if is_train:\n",
    "        name = 'train.npz'\n",
    "    else:\n",
    "        name = 'val.npz'\n",
    "    \n",
    "    if type == 'maccs':\n",
    "        dataset = np.load('data/features/fingerprints/maccs/' + name)\n",
    "    elif type == 'morgan':\n",
    "        dataset = np.load('data/features/fingerprints/morgan/' + name)\n",
    "    elif type == 'topological':\n",
    "        dataset = np.load('data/features/fingerprints/topological/' + name)\n",
    "    else:\n",
    "        raise NotImplementedError()\n",
    "    \n",
    "    X = dataset['X']\n",
    "    y = dataset['y']\n",
    "    weights = train_gb.get_weight(y)\n",
    "    return X, y, weights"
   ]
  },
  {
   "cell_type": "code",
   "execution_count": 17,
   "metadata": {},
   "outputs": [],
   "source": [
    "def get_classifier(subsample: float, max_depth: int, n_estimators: int):\n",
    "    gb = GradientBoostingClassifier(\n",
    "        subsample=subsample,\n",
    "        max_depth=max_depth,\n",
    "        n_estimators=n_estimators,\n",
    "    )\n",
    "    return gb"
   ]
  },
  {
   "cell_type": "code",
   "execution_count": 18,
   "metadata": {},
   "outputs": [],
   "source": [
    "def evaluate(classifier, X, y_true):\n",
    "    y_pred = classifier.predict(X)\n",
    "    score = roc_auc_score(y_true, y_pred)\n",
    "    return score"
   ]
  },
  {
   "cell_type": "code",
   "execution_count": 19,
   "metadata": {},
   "outputs": [],
   "source": [
    "def train_and_eval(parameters):\n",
    "    X_train, y_train, weights = get_dataset(parameters['fingerprint'])\n",
    "    classifier = get_classifier(parameters['subsample'], parameters['max_depth'], parameters['n_estimators'])\n",
    "    classifier.fit(X_train, y_train, sample_weight=weights)\n",
    "    train_score = evaluate(classifier, X_train, y_train)\n",
    "    print(f'Train: {train_score}')\n",
    "\n",
    "    X_val, y_val, _ = get_dataset(parameters['fingerprint'], is_train=False)\n",
    "    val_score = evaluate(classifier, X_val, y_val)\n",
    "    print(f'Val: {val_score}')"
   ]
  },
  {
   "cell_type": "code",
   "execution_count": 14,
   "metadata": {},
   "outputs": [
    {
     "name": "stdout",
     "output_type": "stream",
     "text": [
      "Train: 0.9620964435014022\n",
      "Val: 0.8268455602902223\n"
     ]
    }
   ],
   "source": [
    "parameters = {\n",
    "    'fingerprint': 'topological',\n",
    "    'subsample': 0.3,\n",
    "    'max_depth': 3,\n",
    "    'n_estimators': 300\n",
    "}\n",
    "\n",
    "train_and_eval(parameters)"
   ]
  }
 ],
 "metadata": {
  "interpreter": {
   "hash": "75eb2e0569a4af04b1207f03ea0046dd570fd06dc11dd211da40f0f826adc5b9"
  },
  "kernelspec": {
   "display_name": "Python 3.9.7 64-bit ('gero': conda)",
   "language": "python",
   "name": "python3"
  },
  "language_info": {
   "codemirror_mode": {
    "name": "ipython",
    "version": 3
   },
   "file_extension": ".py",
   "mimetype": "text/x-python",
   "name": "python",
   "nbconvert_exporter": "python",
   "pygments_lexer": "ipython3",
   "version": "3.9.7"
  },
  "orig_nbformat": 4
 },
 "nbformat": 4,
 "nbformat_minor": 2
}
